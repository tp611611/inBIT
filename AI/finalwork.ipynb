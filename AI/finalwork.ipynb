{
 "cells": [
  {
   "cell_type": "markdown",
   "metadata": {},
   "source": [
    "1、读入数据\n",
    "2、先训练knn\n",
    "3、训练bp神经网络\n",
    "4、训练决策树\n",
    "5、使用遗传算法,最后得到优化的参数\n",
    "6、最后从最后的个体中，选取最优的21个个体，进行集成学习，进行幸福感预测\n",
    "7、最后写报告整理资料、写课堂总结"
   ]
  },
  {
   "cell_type": "markdown",
   "metadata": {},
   "source": [
    "#### 一、读入数据、数据预处理"
   ]
  },
  {
   "cell_type": "code",
   "execution_count": 1,
   "metadata": {},
   "outputs": [],
   "source": [
    "# 导入相关的数据读入模块\n",
    "%matplotlib inline\n",
    "import pandas as pd\n",
    "import numpy as np\n",
    "import matplotlib.pyplot as plt\n",
    "import seaborn as sns\n",
    "import random\n",
    "plt.rcParams['font.sans-serif'] = ['KaiTi']\n",
    "plt.rcParams['font.serif'] = ['KaiTi']"
   ]
  },
  {
   "cell_type": "code",
   "execution_count": 2,
   "metadata": {},
   "outputs": [
    {
     "data": {
      "text/html": [
       "<div>\n",
       "<style scoped>\n",
       "    .dataframe tbody tr th:only-of-type {\n",
       "        vertical-align: middle;\n",
       "    }\n",
       "\n",
       "    .dataframe tbody tr th {\n",
       "        vertical-align: top;\n",
       "    }\n",
       "\n",
       "    .dataframe thead th {\n",
       "        text-align: right;\n",
       "    }\n",
       "</style>\n",
       "<table border=\"1\" class=\"dataframe\">\n",
       "  <thead>\n",
       "    <tr style=\"text-align: right;\">\n",
       "      <th></th>\n",
       "      <th>id</th>\n",
       "      <th>happiness</th>\n",
       "      <th>survey_type</th>\n",
       "      <th>province</th>\n",
       "      <th>city</th>\n",
       "      <th>county</th>\n",
       "      <th>survey_time</th>\n",
       "      <th>gender</th>\n",
       "      <th>birth</th>\n",
       "      <th>nationality</th>\n",
       "      <th>...</th>\n",
       "      <th>neighbor_familiarity</th>\n",
       "      <th>public_service_1</th>\n",
       "      <th>public_service_2</th>\n",
       "      <th>public_service_3</th>\n",
       "      <th>public_service_4</th>\n",
       "      <th>public_service_5</th>\n",
       "      <th>public_service_6</th>\n",
       "      <th>public_service_7</th>\n",
       "      <th>public_service_8</th>\n",
       "      <th>public_service_9</th>\n",
       "    </tr>\n",
       "  </thead>\n",
       "  <tbody>\n",
       "    <tr>\n",
       "      <th>0</th>\n",
       "      <td>1</td>\n",
       "      <td>4</td>\n",
       "      <td>1</td>\n",
       "      <td>12</td>\n",
       "      <td>32</td>\n",
       "      <td>59</td>\n",
       "      <td>2015-08-04 14:18:00</td>\n",
       "      <td>1</td>\n",
       "      <td>1959</td>\n",
       "      <td>1</td>\n",
       "      <td>...</td>\n",
       "      <td>4</td>\n",
       "      <td>50</td>\n",
       "      <td>60</td>\n",
       "      <td>50</td>\n",
       "      <td>50</td>\n",
       "      <td>30.0</td>\n",
       "      <td>30</td>\n",
       "      <td>50</td>\n",
       "      <td>50</td>\n",
       "      <td>50</td>\n",
       "    </tr>\n",
       "    <tr>\n",
       "      <th>1</th>\n",
       "      <td>2</td>\n",
       "      <td>4</td>\n",
       "      <td>2</td>\n",
       "      <td>18</td>\n",
       "      <td>52</td>\n",
       "      <td>85</td>\n",
       "      <td>2015-07-21 15:04:00</td>\n",
       "      <td>1</td>\n",
       "      <td>1992</td>\n",
       "      <td>1</td>\n",
       "      <td>...</td>\n",
       "      <td>3</td>\n",
       "      <td>90</td>\n",
       "      <td>70</td>\n",
       "      <td>70</td>\n",
       "      <td>80</td>\n",
       "      <td>85.0</td>\n",
       "      <td>70</td>\n",
       "      <td>90</td>\n",
       "      <td>60</td>\n",
       "      <td>60</td>\n",
       "    </tr>\n",
       "    <tr>\n",
       "      <th>2</th>\n",
       "      <td>3</td>\n",
       "      <td>4</td>\n",
       "      <td>2</td>\n",
       "      <td>29</td>\n",
       "      <td>83</td>\n",
       "      <td>126</td>\n",
       "      <td>2015-07-21 13:24:00</td>\n",
       "      <td>2</td>\n",
       "      <td>1967</td>\n",
       "      <td>1</td>\n",
       "      <td>...</td>\n",
       "      <td>4</td>\n",
       "      <td>90</td>\n",
       "      <td>80</td>\n",
       "      <td>75</td>\n",
       "      <td>79</td>\n",
       "      <td>80.0</td>\n",
       "      <td>90</td>\n",
       "      <td>90</td>\n",
       "      <td>90</td>\n",
       "      <td>75</td>\n",
       "    </tr>\n",
       "    <tr>\n",
       "      <th>3</th>\n",
       "      <td>4</td>\n",
       "      <td>5</td>\n",
       "      <td>2</td>\n",
       "      <td>10</td>\n",
       "      <td>28</td>\n",
       "      <td>51</td>\n",
       "      <td>2015-07-25 17:33:00</td>\n",
       "      <td>2</td>\n",
       "      <td>1943</td>\n",
       "      <td>1</td>\n",
       "      <td>...</td>\n",
       "      <td>3</td>\n",
       "      <td>100</td>\n",
       "      <td>90</td>\n",
       "      <td>70</td>\n",
       "      <td>80</td>\n",
       "      <td>80.0</td>\n",
       "      <td>90</td>\n",
       "      <td>90</td>\n",
       "      <td>80</td>\n",
       "      <td>80</td>\n",
       "    </tr>\n",
       "    <tr>\n",
       "      <th>4</th>\n",
       "      <td>5</td>\n",
       "      <td>4</td>\n",
       "      <td>1</td>\n",
       "      <td>7</td>\n",
       "      <td>18</td>\n",
       "      <td>36</td>\n",
       "      <td>2015-08-10 09:50:00</td>\n",
       "      <td>2</td>\n",
       "      <td>1994</td>\n",
       "      <td>1</td>\n",
       "      <td>...</td>\n",
       "      <td>2</td>\n",
       "      <td>50</td>\n",
       "      <td>50</td>\n",
       "      <td>50</td>\n",
       "      <td>50</td>\n",
       "      <td>50.0</td>\n",
       "      <td>50</td>\n",
       "      <td>50</td>\n",
       "      <td>50</td>\n",
       "      <td>50</td>\n",
       "    </tr>\n",
       "  </tbody>\n",
       "</table>\n",
       "<p>5 rows × 140 columns</p>\n",
       "</div>"
      ],
      "text/plain": [
       "   id  happiness  survey_type  province  city  county         survey_time  \\\n",
       "0   1          4            1        12    32      59 2015-08-04 14:18:00   \n",
       "1   2          4            2        18    52      85 2015-07-21 15:04:00   \n",
       "2   3          4            2        29    83     126 2015-07-21 13:24:00   \n",
       "3   4          5            2        10    28      51 2015-07-25 17:33:00   \n",
       "4   5          4            1         7    18      36 2015-08-10 09:50:00   \n",
       "\n",
       "   gender  birth  nationality  ...  neighbor_familiarity  public_service_1  \\\n",
       "0       1   1959            1  ...                     4                50   \n",
       "1       1   1992            1  ...                     3                90   \n",
       "2       2   1967            1  ...                     4                90   \n",
       "3       2   1943            1  ...                     3               100   \n",
       "4       2   1994            1  ...                     2                50   \n",
       "\n",
       "   public_service_2 public_service_3  public_service_4  public_service_5  \\\n",
       "0                60               50                50              30.0   \n",
       "1                70               70                80              85.0   \n",
       "2                80               75                79              80.0   \n",
       "3                90               70                80              80.0   \n",
       "4                50               50                50              50.0   \n",
       "\n",
       "   public_service_6  public_service_7  public_service_8  public_service_9  \n",
       "0                30                50                50                50  \n",
       "1                70                90                60                60  \n",
       "2                90                90                90                75  \n",
       "3                90                90                80                80  \n",
       "4                50                50                50                50  \n",
       "\n",
       "[5 rows x 140 columns]"
      ]
     },
     "execution_count": 2,
     "metadata": {},
     "output_type": "execute_result"
    }
   ],
   "source": [
    "# 导入数据，解析survey_time列的值作为独立的日期列，指定字符集类型\n",
    "train = pd.read_csv('./data/happiness_train_complete.csv', parse_dates=['survey_time'], encoding='latin-1')\n",
    "train.head()"
   ]
  },
  {
   "cell_type": "code",
   "execution_count": 3,
   "metadata": {},
   "outputs": [
    {
     "data": {
      "text/plain": [
       "(8000, 140)"
      ]
     },
     "execution_count": 3,
     "metadata": {},
     "output_type": "execute_result"
    }
   ],
   "source": [
    "# 查看数据的形态\n",
    "train.shape"
   ]
  },
  {
   "cell_type": "code",
   "execution_count": 4,
   "metadata": {},
   "outputs": [
    {
     "name": "stdout",
     "output_type": "stream",
     "text": [
      "{1, 2, 3, 4, 5, -8}\n"
     ]
    }
   ],
   "source": [
    "#查看所有的幸福度\n",
    "o=set(train['happiness'])\n",
    "print(o)"
   ]
  },
  {
   "cell_type": "code",
   "execution_count": 5,
   "metadata": {},
   "outputs": [],
   "source": [
    "# 处理异常值\n",
    "# 将happiness中的‘-8’无法回答，改为‘3’说不上幸福不幸福\n",
    "train['happiness'] = train['happiness'].replace(-8, 3)"
   ]
  },
  {
   "cell_type": "code",
   "execution_count": 6,
   "metadata": {},
   "outputs": [
    {
     "data": {
      "text/plain": [
       "id                         0\n",
       "happiness                  0\n",
       "survey_type                0\n",
       "province                   0\n",
       "city                       0\n",
       "county                     0\n",
       "survey_time                0\n",
       "gender                     0\n",
       "birth                      0\n",
       "nationality                0\n",
       "religion                   0\n",
       "religion_freq              0\n",
       "edu                        0\n",
       "edu_other               7997\n",
       "edu_status              1120\n",
       "edu_yr                  1972\n",
       "income                     0\n",
       "political                  0\n",
       "join_party              7176\n",
       "floor_area                 0\n",
       "property_0                 0\n",
       "property_1                 0\n",
       "property_2                 0\n",
       "property_3                 0\n",
       "property_4                 0\n",
       "property_5                 0\n",
       "property_6                 0\n",
       "property_7                 0\n",
       "property_8                 0\n",
       "property_other          7934\n",
       "                        ... \n",
       "m_political                0\n",
       "m_work_14                  0\n",
       "status_peer                0\n",
       "status_3_before            0\n",
       "view                       0\n",
       "inc_ability                0\n",
       "inc_exp                    0\n",
       "trust_1                    0\n",
       "trust_2                    0\n",
       "trust_3                    0\n",
       "trust_4                    0\n",
       "trust_5                    0\n",
       "trust_6                    0\n",
       "trust_7                    0\n",
       "trust_8                    0\n",
       "trust_9                    0\n",
       "trust_10                   0\n",
       "trust_11                   0\n",
       "trust_12                   0\n",
       "trust_13                   0\n",
       "neighbor_familiarity       0\n",
       "public_service_1           0\n",
       "public_service_2           0\n",
       "public_service_3           0\n",
       "public_service_4           0\n",
       "public_service_5           0\n",
       "public_service_6           0\n",
       "public_service_7           0\n",
       "public_service_8           0\n",
       "public_service_9           0\n",
       "Length: 140, dtype: int64"
      ]
     },
     "execution_count": 6,
     "metadata": {},
     "output_type": "execute_result"
    }
   ],
   "source": [
    "# 判断是否包含缺失值\n",
    "# isnull用于遍历dataframe每一个元素，将是空的元素置为True，将非空的元素置为False，sum用于计算每一列中为True元素的个数\n",
    "train.isnull().sum()"
   ]
  },
  {
   "cell_type": "code",
   "execution_count": 7,
   "metadata": {},
   "outputs": [],
   "source": [
    "# loc[]方法用于实现将happiness=-8的行进行过滤，也就是保留hapiness不为-8的行，因为幸福指数只有1-5，-8明显是一个错误的读入值\n",
    "train = train.loc[train['happiness'] != -8]"
   ]
  },
  {
   "cell_type": "code",
   "execution_count": 8,
   "metadata": {},
   "outputs": [
    {
     "data": {
      "text/plain": [
       "(8000, 140)"
      ]
     },
     "execution_count": 8,
     "metadata": {},
     "output_type": "execute_result"
    }
   ],
   "source": [
    "train.shape"
   ]
  },
  {
   "cell_type": "code",
   "execution_count": 9,
   "metadata": {},
   "outputs": [
    {
     "data": {
      "text/plain": [
       "4    4818\n",
       "5    1410\n",
       "3    1171\n",
       "2     497\n",
       "1     104\n",
       "Name: happiness, dtype: int64"
      ]
     },
     "execution_count": 9,
     "metadata": {},
     "output_type": "execute_result"
    }
   ],
   "source": [
    "train['happiness'].value_counts()"
   ]
  },
  {
   "cell_type": "code",
   "execution_count": 10,
   "metadata": {},
   "outputs": [],
   "source": [
    "# 使用.dt.year将survey_time转换成year的时间\n",
    "train['survey_time'] = train['survey_time'].dt.year"
   ]
  },
  {
   "cell_type": "code",
   "execution_count": 11,
   "metadata": {},
   "outputs": [],
   "source": [
    "# 通过birth和survey时间计算出接受采访者的年龄\n",
    "train['Age'] = train['survey_time']-train['birth']"
   ]
  },
  {
   "cell_type": "code",
   "execution_count": 12,
   "metadata": {},
   "outputs": [
    {
     "name": "stdout",
     "output_type": "stream",
     "text": [
      "0       56\n",
      "1       23\n",
      "2       48\n",
      "3       72\n",
      "4       21\n",
      "5       69\n",
      "6       52\n",
      "7       56\n",
      "8       63\n",
      "9       30\n",
      "10      27\n",
      "11      47\n",
      "12      51\n",
      "13      76\n",
      "14      80\n",
      "15      32\n",
      "16      41\n",
      "17      53\n",
      "18      39\n",
      "19      50\n",
      "20      64\n",
      "21      67\n",
      "22      35\n",
      "23      73\n",
      "24      59\n",
      "25      45\n",
      "26      49\n",
      "27      52\n",
      "28      23\n",
      "29      68\n",
      "        ..\n",
      "7970    57\n",
      "7971    20\n",
      "7972    38\n",
      "7973    39\n",
      "7974    50\n",
      "7975    43\n",
      "7976    62\n",
      "7977    67\n",
      "7978    39\n",
      "7979    31\n",
      "7980    61\n",
      "7981    69\n",
      "7982    46\n",
      "7983    62\n",
      "7984    80\n",
      "7985    45\n",
      "7986    40\n",
      "7987    52\n",
      "7988    54\n",
      "7989    84\n",
      "7990    25\n",
      "7991    43\n",
      "7992    49\n",
      "7993    61\n",
      "7994    40\n",
      "7995    34\n",
      "7996    70\n",
      "7997    48\n",
      "7998    37\n",
      "7999    24\n",
      "Name: Age, Length: 8000, dtype: int64\n"
     ]
    }
   ],
   "source": [
    "del_list=['survey_time','birth']\n",
    "print(train['Age'])"
   ]
  },
  {
   "cell_type": "code",
   "execution_count": 13,
   "metadata": {},
   "outputs": [],
   "source": [
    "'''\n",
    "对dataframe中的数据进行简单的编码\n",
    "小于16岁的为0；16-32的为1；32-48的为2；48-64的为3；64-80的为4；大于80的为5\n",
    "'''\n",
    "combine=[train]\n",
    "for dataset in combine:\n",
    "    dataset.loc[dataset['Age']<=16,'Age']=0\n",
    "    dataset.loc[(dataset['Age'] > 16) & (dataset['Age'] <= 32), 'Age'] = 1\n",
    "    dataset.loc[(dataset['Age'] > 32) & (dataset['Age'] <= 48), 'Age'] = 2\n",
    "    dataset.loc[(dataset['Age'] > 48) & (dataset['Age'] <= 64), 'Age'] = 3\n",
    "    dataset.loc[(dataset['Age'] > 64) & (dataset['Age'] <= 80), 'Age'] = 4\n",
    "    dataset.loc[ dataset['Age'] > 80, 'Age'] = 5"
   ]
  },
  {
   "cell_type": "code",
   "execution_count": 14,
   "metadata": {},
   "outputs": [
    {
     "name": "stderr",
     "output_type": "stream",
     "text": [
      "C:\\Users\\Administrator\\AppData\\Roaming\\Python\\Python37\\site-packages\\matplotlib\\backends\\backend_agg.py:211: RuntimeWarning: Glyph 8722 missing from current font.\n",
      "  font.set_text(s, 0.0, flags=flags)\n",
      "C:\\Users\\Administrator\\AppData\\Roaming\\Python\\Python37\\site-packages\\matplotlib\\backends\\backend_agg.py:180: RuntimeWarning: Glyph 8722 missing from current font.\n",
      "  font.set_text(s, 0, flags=flags)\n"
     ]
    },
    {
     "data": {
      "image/png": "[encoded data removed]",
      "text/plain": [
       "<Figure size 1080x1080 with 2 Axes>"
      ]
     },
     "metadata": {
      "needs_background": "light"
     },
     "output_type": "display_data"
    }
   ],
   "source": [
    "'''\n",
    "绘制以下数据的热度图，\n",
    ".corr()方法表示的是计算dataframe多个指标的相关系数矩阵，默认使用pearson计算方法\n",
    "train[]表示传入热度图的数据，\n",
    "annot（布尔类型），用于控制是否在个字中间标明数字，\n",
    "cmap表示控制热度的渐变色，\n",
    "linewidths表示每个单元格的线的宽度'''\n",
    "sns.heatmap(train[['happiness','Age','inc_ability','gender','status_peer','family_status','health','equity','class','work_exper','health_problem','family_m','house','depression','learn','relax','edu']].corr(),annot=True,cmap='RdYlGn',linewidths=0.2) #data.corr()-->correlation matrix\n",
    "fig=plt.gcf()  #获取当前的图表和子图\n",
    "fig.set_size_inches(15,15)  #设置图像的密集度：设置图像的长和宽\n",
    "plt.show()"
   ]
  },
  {
   "cell_type": "code",
   "execution_count": 15,
   "metadata": {},
   "outputs": [],
   "source": [
    "'''\n",
    "最后选择的特征为Age年龄,inc_ability收入是否合理,gender性别,status_peer与同龄人相比的收入情况,work_exper工作经历及情况,family_status家庭年收入情况,health身体健康状况,equity认为社会是否公平,class认为应该处于的社会阶层,health_problem影响健康的程度,family_m家庭人数,house拥有房产数量,depression压力沮丧程度,learn是否学习充电,relax休闲放松,edu教育程度\n",
    "'''\n",
    "features=['Age','inc_ability','gender','status_peer','work_exper','family_status','health','equity','class','health_problem','family_m','house','depression','learn','relax','edu']"
   ]
  },
  {
   "cell_type": "code",
   "execution_count": 16,
   "metadata": {},
   "outputs": [],
   "source": [
    "# 设置训练模型参数，target为模型输出的标签项，train为模型输入，test为测试集数据\n",
    "# 特征工程完成得到最后用于训练和测试的数据集\n",
    "train_target = train['happiness']\n",
    "train = train[features]"
   ]
  },
  {
   "cell_type": "markdown",
   "metadata": {},
   "source": [
    "### 二、数据测试集和训练集划分及归一化"
   ]
  },
  {
   "cell_type": "code",
   "execution_count": 17,
   "metadata": {},
   "outputs": [],
   "source": [
    "# 进行数据随机划分模块\n",
    "from sklearn.model_selection import train_test_split \n",
    "# 进行数据标准化\n",
    "from sklearn.preprocessing import StandardScaler\n",
    "standardScaler = StandardScaler()\n",
    "standardScaler.fit(train)\n",
    "train_transform = standardScaler.transform(train)\n",
    "X_train,X_test,Y_train,Y_test = train_test_split(train_transform,train_target,test_size=0.3)"
   ]
  },
  {
   "cell_type": "markdown",
   "metadata": {},
   "source": [
    "### 三、训练knn模型"
   ]
  },
  {
   "cell_type": "code",
   "execution_count": 18,
   "metadata": {},
   "outputs": [],
   "source": [
    "# 先引入进行评估的相关的包\n",
    "from sklearn import metrics    \n"
   ]
  },
  {
   "cell_type": "code",
   "execution_count": 19,
   "metadata": {},
   "outputs": [
    {
     "name": "stdout",
     "output_type": "stream",
     "text": [
      "0.5591666666666667 %\n"
     ]
    }
   ],
   "source": [
    "from sklearn.neighbors import KNeighborsClassifier\n",
    "test_knn = KNeighborsClassifier(n_neighbors = 5,p = 2,weights = 'distance')\n",
    "test_knn.fit(X_train,Y_train)\n",
    "Y_predict_train = test_knn.predict(X_test)\n",
    "print(metrics.accuracy_score(Y_test,Y_predict_train),\"%\")"
   ]
  },
  {
   "cell_type": "markdown",
   "metadata": {},
   "source": [
    "### 四、训练BP神经网络模型"
   ]
  },
  {
   "cell_type": "code",
   "execution_count": 20,
   "metadata": {},
   "outputs": [],
   "source": [
    "# MLPClassifier() BP神经网络\n",
    "# 查看文章：https://blog.csdn.net/weixin_42348202/article/details/100568469\n",
    "from sklearn.neural_network import MLPClassifier   "
   ]
  },
  {
   "cell_type": "code",
   "execution_count": 21,
   "metadata": {},
   "outputs": [
    {
     "name": "stdout",
     "output_type": "stream",
     "text": [
      "0.5870833333333333 %\n"
     ]
    },
    {
     "name": "stderr",
     "output_type": "stream",
     "text": [
      "E:\\Anaconda3\\lib\\site-packages\\sklearn\\neural_network\\multilayer_perceptron.py:566: ConvergenceWarning: Stochastic Optimizer: Maximum iterations (100) reached and the optimization hasn't converged yet.\n",
      "  % self.max_iter, ConvergenceWarning)\n"
     ]
    }
   ],
   "source": [
    "bp = MLPClassifier(hidden_layer_sizes=(50,50),max_iter=100)\n",
    "bp.fit(X_train,Y_train)\n",
    "Y_bp_predict = bp.predict(X_test)\n",
    "print(metrics.accuracy_score(Y_test,Y_bp_predict),\"%\")"
   ]
  },
  {
   "cell_type": "markdown",
   "metadata": {},
   "source": [
    "### 五、训练决策树模型"
   ]
  },
  {
   "cell_type": "code",
   "execution_count": 22,
   "metadata": {},
   "outputs": [
    {
     "name": "stdout",
     "output_type": "stream",
     "text": [
      "0.595 %\n"
     ]
    }
   ],
   "source": [
    "# 导入需要的块\n",
    "from sklearn.tree import DecisionTreeClassifier\n",
    "tree = DecisionTreeClassifier(max_depth=7,min_samples_split=4)\n",
    "tree.fit(X_train,Y_train)\n",
    "Y_tree_predict = tree.predict(X_test)\n",
    "print(metrics.accuracy_score(Y_tree_predict,Y_test),\"%\")"
   ]
  },
  {
   "cell_type": "markdown",
   "metadata": {},
   "source": [
    "### 六、使用遗传算法，进行进化学习，得到每个决策分类模型中表现较好的7个参数模型，得到一共21个模型，最后进行集成投票的原则得到更好的分类结果。"
   ]
  },
  {
   "cell_type": "code",
   "execution_count": 23,
   "metadata": {},
   "outputs": [],
   "source": [
    "# 定义一些全局变量，方便变异操作\n",
    "# 所有模型对应的范围\n",
    "# knn模型对应的范围\n",
    "knn_n_neighbors_min = 5\n",
    "knn_n_neighbors_max = 30\n",
    "knn_p_min = 1\n",
    "knn_p_max = 6\n",
    "# bp神经网络模型参数对应范围\n",
    "bp_iter_min = 100\n",
    "bp_iter_max = 300\n",
    "bp_x_min = 10\n",
    "bp_x_max = 50\n",
    "bp_y_min = 10\n",
    "bp_y_max = 50\n",
    "# 决策树模型参数对应的范围\n",
    "tree_depth_min = 5\n",
    "tree_depth_max = 15\n",
    "tree_split_min = 2\n",
    "tree_split_max = 8\n",
    "#迭代的次数：\n",
    "epoches = 200\n",
    "# 相应的分类器集合和参数集合，设置为全局变量\n",
    "knn_set = []\n",
    "bp_set = []\n",
    "tree_set = []\n",
    "knn_param_set = []\n",
    "bp_param_set = []\n",
    "tree_param_set = []"
   ]
  },
  {
   "cell_type": "markdown",
   "metadata": {},
   "source": [
    "#### 1、确定初始群体，进行初始化"
   ]
  },
  {
   "cell_type": "code",
   "execution_count": 24,
   "metadata": {},
   "outputs": [],
   "source": [
    "def init():\n",
    "    #knn初始化群体\n",
    "    for n_neighbors in range(5,31,2):\n",
    "        for p in range(1,6,1):\n",
    "            knn_set.append(KNeighborsClassifier(n_neighbors =n_neighbors ,p = p))\n",
    "            knn_param_set.append([n_neighbors,p])\n",
    "    for max_iter in range(100,300,20):\n",
    "        for x in range(10,51,5):\n",
    "            for y in range(10,51,5):\n",
    "                bp_set.append(MLPClassifier(hidden_layer_sizes=(x,y),max_iter=max_iter))\n",
    "                bp_param_set.append([max_iter,x,y])\n",
    "    for max_depth in range(5,15,1):\n",
    "        for min_samples_split in range(2,8,1):\n",
    "            tree_set.append(DecisionTreeClassifier(max_depth=max_depth,min_samples_split=min_samples_split))\n",
    "            tree_param_set.append([max_depth,min_samples_split])\n",
    "    return knn_set,bp_set,tree_set,knn_param_set,bp_param_set,tree_param_set"
   ]
  },
  {
   "cell_type": "markdown",
   "metadata": {},
   "source": [
    "#### 2、选择，使用准确率作为评分依据得到累计概率"
   ]
  },
  {
   "cell_type": "code",
   "execution_count": 25,
   "metadata": {},
   "outputs": [],
   "source": [
    "# 得到评分\n",
    "def classfier_score(X,Y,classfier):\n",
    "    classfier.fit(X, Y)\n",
    "    pred = classfier.predict(X)\n",
    "    return metrics.accuracy_score(y_true=Y, y_pred=pred)\n",
    "\n",
    "# 计算每个个体的适应度,返回适应度圆盘，用于下一步轮盘赌原则用于选择个体\n",
    "def adaption(X,Y,classfier_set):\n",
    "    score = []\n",
    "    for classfier in classfier_set:\n",
    "        score.append(classfier_score(X,Y,classfier))\n",
    "    sm = np.sum(score)\n",
    "    ada = score / sm\n",
    "    for i in range(1, len(ada)):\n",
    "        ada[i] = ada[i] + ada[i - 1]\n",
    "    return ada\n",
    "                               \n",
    "# 根据轮盘进行选择,得到对应的分类器和对应的分类参数\n",
    "def choose_classfiers(classfier_set,classfier_param_set,ada):\n",
    "    count = len(classfier_set)\n",
    "    result = []\n",
    "    result_param =[]\n",
    "    for i in range(count):\n",
    "        r = random.random()\n",
    "        for j in range(len(ada)):\n",
    "            if r<= ada[j]:\n",
    "                result.append(classfier_set[j])\n",
    "                result_param.append(classfier_param_set[j])\n",
    "                break;\n",
    "    return result,result_param                      "
   ]
  },
  {
   "cell_type": "markdown",
   "metadata": {},
   "source": [
    "#### 3、交叉，使用的是参数的交叉，随机根据参数的位置进行，交叉"
   ]
  },
  {
   "cell_type": "code",
   "execution_count": 26,
   "metadata": {},
   "outputs": [],
   "source": [
    "# 两个分类器参数之间的交叉，分类型进行不用类别的交叉,\n",
    "def cross(index1,index2,type,param_set):\n",
    "    if (type == \"knn\") or (type == \"tree\"):\n",
    "        #随机产生0-1的数进行交叉\n",
    "        index_temp = random.randint(0,1)\n",
    "        data_temp = param_set[index1][index_temp]\n",
    "        param_set[index1][index_temp] = param_set[index2][index_temp]\n",
    "        param_set[index2][index_temp] = data_temp\n",
    "    else:\n",
    "        # 随机产生0-2的树进行交叉\n",
    "        index_temp = random.randint(0,2)\n",
    "        data_temp = param_set[index1][index_temp]\n",
    "        param_set[index1][index_temp] = param_set[index2][index_temp]\n",
    "        param_set[index2][index_temp] = data_temp\n",
    "    return\n",
    "\n",
    "# 整个集合的交叉也要传进来类型是什么，对于该集合的参数，每间隔三个个体进行随机交叉\n",
    "def all_cross(classfier_set,type):\n",
    "    set_len = len(classfier_set)\n",
    "    # 最后交叉完的集合\n",
    "    for i in range(1,set_len,3):\n",
    "        cross(i,i-1,type,classfier_set)\n",
    "    return"
   ]
  },
  {
   "cell_type": "markdown",
   "metadata": {},
   "source": [
    "#### 4、变异，通过对参数进行操作达到变异的目的"
   ]
  },
  {
   "cell_type": "code",
   "execution_count": 27,
   "metadata": {},
   "outputs": [],
   "source": [
    "# 分类型进行不同类别的变异，变异的范围还要进行自己的确认不能超出正常范围,变异率默认设置为0.2\n",
    "# 就是简单的+1或者-1操作，当达到最大值时只能减，最小值时只能加，其他随意加减\n",
    "def variation(classfier_set,type,probality):\n",
    "    count = int(len(classfier_set)*probality)#变异的个数\n",
    "    while count > 0:\n",
    "        index_tep = random.randint(0,len(classfier_set))#每个分类器变异的位置\n",
    "        operation = random.randint(0,1)#0减1加\n",
    "        if type == 'knn':\n",
    "            index_param = random.randint(0,1)#参数变异的位置\n",
    "            if operation == 0:\n",
    "                if index_param == 0:\n",
    "                    if classfier_set[index_tep][0] == knn_n_neighbors_min:\n",
    "                        classfier_set[index_tep][0] = classfier_set[index_tep][0] +1\n",
    "                    else:\n",
    "                        classfier_set[index_tep][0] = classfier_set[index_tep][0] -1\n",
    "                else:\n",
    "                    if classfier_set[index_tep][1] == knn_p_min:\n",
    "                        classfier_set[index_tep][1] = classfier_set[index_tep][1] + 1\n",
    "                    else:\n",
    "                        classfier_set[index_tep][1]= classfier_set[index_tep][1] - 1\n",
    "            else:#运算是加的情况\n",
    "                if index_param == 0:\n",
    "                    if classfier_set[index_tep][0] == knn_n_neighbors_max:\n",
    "                        classfier_set[index_tep][0] = classfier_set[index_tep][0] -1\n",
    "                    else:\n",
    "                        classfier_set[index_tep][0] = classfier_set[index_tep][0] +1\n",
    "                else:\n",
    "                    if classfier_set[index_tep][1] == knn_p_max:\n",
    "                        classfier_set[index_tep][1] = classfier_set[index_tep][1] -1\n",
    "                    else:\n",
    "                        classfier_set[index_tep][1]= classfier_set[index_tep][1] + 1\n",
    "        elif type ==\"tree\":\n",
    "            index_param = random.randint(0,1)#参数变异的位置\n",
    "            if operation == 0:\n",
    "                if index_param == 0:\n",
    "                    if classfier_set[index_tep][0] == tree_depth_min:\n",
    "                        classfier_set[index_tep][0] = classfier_set[index_tep][0] +1\n",
    "                    else:\n",
    "                        classfier_set[index_tep][0] = classfier_set[index_tep][0] -1\n",
    "                else:\n",
    "                    if classfier_set[index_tep][1] == tree_split_min:\n",
    "                        classfier_set[index_tep][1] = classfier_set[index_tep][1] + 1\n",
    "                    else:\n",
    "                        classfier_set[index_tep][1]= classfier_set[index_tep][1] - 1\n",
    "            else:#运算是加的情况\n",
    "                if index_param == 0:\n",
    "                    if classfier_set[index_tep][0] == tree_depth_max:\n",
    "                        classfier_set[index_tep][0] = classfier_set[index_tep][0] -1\n",
    "                    else:\n",
    "                        classfier_set[index_tep][0] = classfier_set[index_tep][0] +1\n",
    "                else:\n",
    "                    if classfier_set[index_tep][1] == tree_split_max:\n",
    "                        classfier_set[index_tep][1] = classfier_set[index_tep][1] -1\n",
    "                    else:\n",
    "                        classfier_set[index_tep][1]= classfier_set[index_tep][1] + 1  \n",
    "        else:#是神经网络模型的时候\n",
    "            index_param = random.randint(0,2)#参数变异的位置\n",
    "            if operation == 0:\n",
    "                if index_param == 0:\n",
    "                    if classfier_set[index_tep][0] == bp_iter_min:\n",
    "                        classfier_set[index_tep][0] = classfier_set[index_tep][0] +1\n",
    "                    else:\n",
    "                        classfier_set[index_tep][0] = classfier_set[index_tep][0] -1\n",
    "                elif index_param == 1:\n",
    "                    if classfier_set[index_tep][1] == bp_x_min:\n",
    "                        classfier_set[index_tep][1] = classfier_set[index_tep][1] + 1\n",
    "                    else:\n",
    "                        classfier_set[index_tep][1]= classfier_set[index_tep][1] - 1\n",
    "                else:\n",
    "                    if classfier_set[index_tep][2] == bp_y_min:\n",
    "                        classfier_set[index_tep][2] = classfier_set[index_tep][2] + 1\n",
    "                    else:\n",
    "                        classfier_set[index_tep][2]= classfier_set[index_tep][2] - 1    \n",
    "            else:#运算是加的情况\n",
    "                if index_param == 0:\n",
    "                    if classfier_set[index_tep][0] == bp_iter_max:\n",
    "                        classfier_set[index_tep][0] = classfier_set[index_tep][0] -1\n",
    "                    else:\n",
    "                        classfier_set[index_tep][0] = classfier_set[index_tep][0] +1\n",
    "                elif index_param == 1:\n",
    "                    if classfier_set[index_tep][1] == bp_x_max:\n",
    "                        classfier_set[index_tep][1] = classfier_set[index_tep][1] -1\n",
    "                    else:\n",
    "                        classfier_set[index_tep][1]= classfier_set[index_tep][1] + 1\n",
    "                else:\n",
    "                    if classfier_set[index_tep][2] == bp_y_max:\n",
    "                        classfier_set[index_tep][2] = classfier_set[index_tep][2] - 1\n",
    "                    else:\n",
    "                        classfier_set[index_tep][2]= classfier_set[index_tep][2] + 1         \n",
    "        count = count - 1    "
   ]
  },
  {
   "cell_type": "code",
   "execution_count": 28,
   "metadata": {},
   "outputs": [],
   "source": [
    "# 更新相应的分类器参数后，继续根据参数，得到相应的分类器集合\n",
    "def to_get_classfiers_set():\n",
    "    new_knn_set = []\n",
    "    new_bp_set = []\n",
    "    new_tree_set = []\n",
    "    for temp in knn_param_set:\n",
    "        new_knn_set.append(KNeighbor,sClassifier(n_neighbors =temp[0] ,p = temp[1]))\n",
    "    for temp1 in bp_param_set:\n",
    "        new_bp_set.append(MLPClassifier(hidden_layer_sizes=(temp1[1],temp1[2]),max_iter=temp[0]))\n",
    "    for temp2 in tree_param_set:\n",
    "        new_tree_set.append(DecisionTreeClassifier(max_depth=temp2[0],min_samples_split=temp2[1]))\n",
    "    return new_knn_set,new_bp_set,new_tree_set"
   ]
  },
  {
   "cell_type": "markdown",
   "metadata": {},
   "source": [
    "#### 5、进化大约200次最后得到21个较优的个体，最后得到综合的分类器"
   ]
  },
  {
   "cell_type": "code",
   "execution_count": 29,
   "metadata": {},
   "outputs": [],
   "source": [
    "# 迭代200次得到每个类别进化的个体集合，从每个集合选择准确率最高的7个\n",
    "def to_get_best(knn_set,bp_set,tree_set):\n",
    "    knn_best_set = set()\n",
    "    bp_best_set = set()\n",
    "    tree_best_set = set()\n",
    "    min_score = 1#记录当前集合最小分数\n",
    "    min_classfier = 0 #记录最小评估分数的分类器\n",
    "    for i in range(0,7):\n",
    "        for temp_classfier in knn_set:\n",
    "            if len(knn_best_set) <= 7:\n",
    "                temp_score = classfier_score(X_train,X_test,temp_classfier)\n",
    "                if temp_score < min_score:\n",
    "                    min_classfier = temp_classfier \n",
    "                knn_best_set.add(temp_classfier)\n",
    "            else:\n",
    "                temp_score = classfier_score(X_train,X_test,temp_classfier)\n",
    "                if temp_score< min_score:\n",
    "                    knn_best_set.remove(min_classfier)\n",
    "                    knn_best_set.add(temp_classfier)\n",
    "                    min_score = temp_score\n",
    "        for temp_classfier in bp_set:\n",
    "            if len(bp_best_set) <= 7:\n",
    "                temp_score = classfier_score(X_train,X_test,temp_classfier)\n",
    "                if temp_score < min_score:\n",
    "                    min_classfier = temp_classfier \n",
    "                bp_best_set.add(temp_classfier)\n",
    "            else:\n",
    "                temp_score = classfier_score(X_train,X_test,temp_classfier)\n",
    "                if temp_score< min_score:\n",
    "                    bp_best_set.remove(min_classfier)\n",
    "                    bp_best_set.add(temp_classfier)\n",
    "                    min_score = temp_score\n",
    "        for temp_classfier in tree_set:\n",
    "            if len(knn_best_set) <= 7:\n",
    "                temp_score = classfier_score(X_train,X_test,temp_classfier)\n",
    "                if temp_score < min_score:\n",
    "                    min_classfier = temp_classfier \n",
    "                tree_best_set.add(temp_classfier)\n",
    "            else:\n",
    "                temp_score = classfier_score(X_train,X_test,temp_classfier)\n",
    "                if temp_score< min_score:\n",
    "                    tree_best_set.remove(min_classfier)\n",
    "                    tree_best_set.add(temp_classfier)\n",
    "                    min_score = temp_score\n",
    "        the_end_set = set.union(knn_best_set,bp_best_set,tree_best_set)\n",
    "    return the_end_set\n",
    "        "
   ]
  },
  {
   "cell_type": "code",
   "execution_count": 30,
   "metadata": {},
   "outputs": [],
   "source": [
    "#### 6、根据现在所有的模型，进行投票集成学习得到最后所有元素的分类，并且返回准确率\n",
    "def to_ensemble(end_classfiers_set):\n",
    "    y_label_predict = []\n",
    "    for temp_data in X_test:\n",
    "        predict_set = {}\n",
    "        for classfiers in end_classfiers_set:\n",
    "            classfiers.fit(X_train,Y_train)\n",
    "            predict_set.append(classfiers.predict(temp_data))\n",
    "            if classfiers not in predict_set.keys:\n",
    "                predict_set[classfiers] = 1\n",
    "            else:\n",
    "                predict_set[classfiers] = predict_set[classfiers] + 1\n",
    "        label = max(predict_set, key=predict_set.get)\n",
    "        y_label_predict.append(label)\n",
    "    return metrics.accuracy_score(y_label_predict,Y_test)"
   ]
  },
  {
   "cell_type": "markdown",
   "metadata": {},
   "source": [
    "### 七、最后进行模型综合后，进行最后的评估"
   ]
  },
  {
   "cell_type": "code",
   "execution_count": 31,
   "metadata": {},
   "outputs": [],
   "source": [
    "# 利用最后得到的最优的21个个体最终得到最后的模型\n",
    "# 主函数入口\n",
    "def main():\n",
    "    #初始化\n",
    "    global epoches\n",
    "    knn_set,bp_set,tree_set,knn_param_set,bp_param_set,tree_param_set = init()\n",
    "    while epoches > 0 :\n",
    "        #选择\n",
    "        ada1 = adaption(X_train,Y_train,knn_set)\n",
    "        knn_set,knn_param_set = choose_classfiers(knn_set,knn_param_set,ada1)\n",
    "        ada2 = adaption(X_train,Y_train,bp_set)\n",
    "        bp_set,bp_param_set = choose_classfiers(bp_set,bp_param_set,ada2)\n",
    "        ada3 = adaption(X_train,Y_train,tree_set)\n",
    "        tree_set,tree_param_set = choose_classfiers(tree_set,tree_param_set,ada3)\n",
    "        #交叉\n",
    "        all_cross(knn_param_set,\"knn\")\n",
    "        all_cross(bp_param_set,\"bp\")\n",
    "        all_cross(tree_param_set,\"tree\")\n",
    "        #变异\n",
    "        variation(knn_param_set,\"knn\",0.2)\n",
    "        variation(bp_param_set,\"bp\",0.2)\n",
    "        variation(tree_param_set,\"tree\",0.2)\n",
    "        #更新分类集合\n",
    "        knn_set,bp_set,tree_set = to_get_classfiers_set()\n",
    "        epoches = epoches -1 \n",
    "    #得到综合分类器\n",
    "    the_end_set = to_get_best(knn_set,bp_set,tree_set)\n",
    "    accuracy = to_ensemble(the_end_set)\n",
    "    print(\"准确率是：\",accuracy)"
   ]
  },
  {
   "cell_type": "code",
   "execution_count": null,
   "metadata": {},
   "outputs": [],
   "source": [
    "main()"
   ]
  }
 ],
 "metadata": {
  "kernelspec": {
   "display_name": "Python 3",
   "language": "python",
   "name": "python3"
  },
  "language_info": {
   "codemirror_mode": {
    "name": "ipython",
    "version": 3
   },
   "file_extension": ".py",
   "mimetype": "text/x-python",
   "name": "python",
   "nbconvert_exporter": "python",
   "pygments_lexer": "ipython3",
   "version": "3.7.3"
  }
 },
 "nbformat": 4,
 "nbformat_minor": 2
}
